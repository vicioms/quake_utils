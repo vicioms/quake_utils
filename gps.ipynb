{
 "cells": [
  {
   "cell_type": "code",
   "execution_count": 2,
   "metadata": {},
   "outputs": [],
   "source": [
    "import numpy as np\n",
    "import pandas as pd\n",
    "import matplotlib.pyplot as plt\n",
    "import libs.ngl as ngl\n",
    "import datetime\n",
    "from numba import njit\n",
    "from numba.typed import Dict\n",
    "from sklearn.metrics.pairwise import haversine_distances"
   ]
  },
  {
   "cell_type": "code",
   "execution_count": 7,
   "metadata": {},
   "outputs": [],
   "source": [
    "def load_hauksson():\n",
    "    column_names = [\"year\",\"month\",\"day\", \"hour\", \"minut\", 'sec', \"id\",\n",
    "                    \"lat\",\"lon\", \"depth\", \"mag\", \"nPhases\", \"azGap\", \"nearDist\", \"hErr\", \"vErr\", \"residual\", \"flag1\", \"flag2\"]\n",
    "    df = pd.read_csv(\"catalogs/sc_1981_2022q1_1d_3d_gc_soda.gc\", sep=\"\\s+\", usecols=range(0,11), header=None,names=column_names[:11])\n",
    "    df['time'] = pd.to_datetime(dict(year=df.year, month=df.month, day=df.day, hours=df.hour, minutes=df.minut, seconds=df.sec))\n",
    "    return df"
   ]
  },
  {
   "cell_type": "code",
   "execution_count": 8,
   "metadata": {},
   "outputs": [],
   "source": [
    "# grab GPS stations list\n",
    "station_list = ngl.ngl_process_list(ngl.ngl_24h_2w) # daily measurements, with 2 weeks delay"
   ]
  },
  {
   "cell_type": "code",
   "execution_count": 9,
   "metadata": {},
   "outputs": [],
   "source": [
    "# fill a dictionary with all the stations coordinates inside the region box\n",
    "region_limits = [29.0, 37.0, -123.0, -112.0 ]\n",
    "station_names, station_lats, station_lons  = ngl.get_all_stations_box(station_list, *region_limits)"
   ]
  },
  {
   "cell_type": "code",
   "execution_count": 10,
   "metadata": {},
   "outputs": [
    {
     "data": {
      "text/html": [
       "<div>\n",
       "<style scoped>\n",
       "    .dataframe tbody tr th:only-of-type {\n",
       "        vertical-align: middle;\n",
       "    }\n",
       "\n",
       "    .dataframe tbody tr th {\n",
       "        vertical-align: top;\n",
       "    }\n",
       "\n",
       "    .dataframe thead th {\n",
       "        text-align: right;\n",
       "    }\n",
       "</style>\n",
       "<table border=\"1\" class=\"dataframe\">\n",
       "  <thead>\n",
       "    <tr style=\"text-align: right;\">\n",
       "      <th></th>\n",
       "      <th>year</th>\n",
       "      <th>month</th>\n",
       "      <th>day</th>\n",
       "      <th>hour</th>\n",
       "      <th>minut</th>\n",
       "      <th>sec</th>\n",
       "      <th>id</th>\n",
       "      <th>lat</th>\n",
       "      <th>lon</th>\n",
       "      <th>depth</th>\n",
       "      <th>mag</th>\n",
       "      <th>time</th>\n",
       "    </tr>\n",
       "  </thead>\n",
       "  <tbody>\n",
       "    <tr>\n",
       "      <th>0</th>\n",
       "      <td>1981</td>\n",
       "      <td>1</td>\n",
       "      <td>1</td>\n",
       "      <td>1</td>\n",
       "      <td>49</td>\n",
       "      <td>29.357</td>\n",
       "      <td>3301561</td>\n",
       "      <td>33.73166</td>\n",
       "      <td>-118.81097</td>\n",
       "      <td>6.399</td>\n",
       "      <td>2.27</td>\n",
       "      <td>1981-01-01 01:49:29.357</td>\n",
       "    </tr>\n",
       "    <tr>\n",
       "      <th>1</th>\n",
       "      <td>1981</td>\n",
       "      <td>1</td>\n",
       "      <td>1</td>\n",
       "      <td>4</td>\n",
       "      <td>13</td>\n",
       "      <td>55.936</td>\n",
       "      <td>3301565</td>\n",
       "      <td>33.25355</td>\n",
       "      <td>-115.96716</td>\n",
       "      <td>6.347</td>\n",
       "      <td>2.26</td>\n",
       "      <td>1981-01-01 04:13:55.936</td>\n",
       "    </tr>\n",
       "    <tr>\n",
       "      <th>2</th>\n",
       "      <td>1981</td>\n",
       "      <td>1</td>\n",
       "      <td>1</td>\n",
       "      <td>5</td>\n",
       "      <td>20</td>\n",
       "      <td>14.634</td>\n",
       "      <td>3301566</td>\n",
       "      <td>34.18175</td>\n",
       "      <td>-117.30450</td>\n",
       "      <td>5.864</td>\n",
       "      <td>2.37</td>\n",
       "      <td>1981-01-01 05:20:14.634</td>\n",
       "    </tr>\n",
       "    <tr>\n",
       "      <th>3</th>\n",
       "      <td>1981</td>\n",
       "      <td>1</td>\n",
       "      <td>1</td>\n",
       "      <td>5</td>\n",
       "      <td>39</td>\n",
       "      <td>56.616</td>\n",
       "      <td>3301567</td>\n",
       "      <td>34.18031</td>\n",
       "      <td>-117.30303</td>\n",
       "      <td>5.991</td>\n",
       "      <td>1.60</td>\n",
       "      <td>1981-01-01 05:39:56.616</td>\n",
       "    </tr>\n",
       "    <tr>\n",
       "      <th>4</th>\n",
       "      <td>1981</td>\n",
       "      <td>1</td>\n",
       "      <td>1</td>\n",
       "      <td>8</td>\n",
       "      <td>23</td>\n",
       "      <td>18.236</td>\n",
       "      <td>3301570</td>\n",
       "      <td>34.00782</td>\n",
       "      <td>-117.16284</td>\n",
       "      <td>15.468</td>\n",
       "      <td>1.88</td>\n",
       "      <td>1981-01-01 08:23:18.236</td>\n",
       "    </tr>\n",
       "  </tbody>\n",
       "</table>\n",
       "</div>"
      ],
      "text/plain": [
       "   year  month  day  hour  minut     sec       id       lat        lon  \\\n",
       "0  1981      1    1     1     49  29.357  3301561  33.73166 -118.81097   \n",
       "1  1981      1    1     4     13  55.936  3301565  33.25355 -115.96716   \n",
       "2  1981      1    1     5     20  14.634  3301566  34.18175 -117.30450   \n",
       "3  1981      1    1     5     39  56.616  3301567  34.18031 -117.30303   \n",
       "4  1981      1    1     8     23  18.236  3301570  34.00782 -117.16284   \n",
       "\n",
       "    depth   mag                    time  \n",
       "0   6.399  2.27 1981-01-01 01:49:29.357  \n",
       "1   6.347  2.26 1981-01-01 04:13:55.936  \n",
       "2   5.864  2.37 1981-01-01 05:20:14.634  \n",
       "3   5.991  1.60 1981-01-01 05:39:56.616  \n",
       "4  15.468  1.88 1981-01-01 08:23:18.236  "
      ]
     },
     "execution_count": 10,
     "metadata": {},
     "output_type": "execute_result"
    }
   ],
   "source": [
    "df = load_hauksson()\n",
    "df.head(5)"
   ]
  },
  {
   "cell_type": "code",
   "execution_count": 12,
   "metadata": {},
   "outputs": [
    {
     "name": "stdout",
     "output_type": "stream",
     "text": [
      "59WE downloaded\n",
      "5PTS downloaded\n",
      "7ODM downloaded\n",
      "ACES downloaded\n",
      "ACSB downloaded\n",
      "ACSX downloaded\n",
      "AERO downloaded\n",
      "AGMT downloaded\n",
      "AGUA downloaded\n",
      "AIAH downloaded\n",
      "AISD downloaded\n",
      "ALPP downloaded\n",
      "ALTH downloaded\n",
      "ANA1 downloaded\n",
      "AOA1 downloaded\n",
      "APEX downloaded\n",
      "AQUA downloaded\n",
      "AR27 downloaded\n"
     ]
    }
   ],
   "source": [
    "# either download or load, depending whether they are on disk or not\n",
    "rootpath = \"csv_24/\"\n",
    "station_data = {}\n",
    "for s_cnt, s_name in enumerate(station_names):\n",
    "    df, status = ngl.ngl_retrieve_24h(rootpath, s_name)\n",
    "    print(s_name, status)\n",
    "    station_data[s_name] = df"
   ]
  },
  {
   "cell_type": "code",
   "execution_count": null,
   "metadata": {},
   "outputs": [],
   "source": []
  }
 ],
 "metadata": {
  "kernelspec": {
   "display_name": "Python 3",
   "language": "python",
   "name": "python3"
  },
  "language_info": {
   "codemirror_mode": {
    "name": "ipython",
    "version": 3
   },
   "file_extension": ".py",
   "mimetype": "text/x-python",
   "name": "python",
   "nbconvert_exporter": "python",
   "pygments_lexer": "ipython3",
   "version": "3.11.6"
  }
 },
 "nbformat": 4,
 "nbformat_minor": 2
}
