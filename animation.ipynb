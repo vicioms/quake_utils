{
 "cells": [
  {
   "cell_type": "code",
   "execution_count": 59,
   "metadata": {},
   "outputs": [],
   "source": [
    "import numpy as np\n",
    "import matplotlib.pyplot as plt\n",
    "import matplotlib.animation as anim\n",
    "from celluloid import Camera"
   ]
  },
  {
   "cell_type": "code",
   "execution_count": 40,
   "metadata": {},
   "outputs": [],
   "source": [
    "friction = [6,1, 2, 7, 5, 9, 1, 2, 2, 3, 5, 6, 12, 10, 11, 15, 3, 2, 6 ]"
   ]
  },
  {
   "cell_type": "code",
   "execution_count": 72,
   "metadata": {},
   "outputs": [
    {
     "data": {
      "image/png": "[encoded data removed]",
      "text/plain": [
       "<Figure size 400x600 with 2 Axes>"
      ]
     },
     "metadata": {},
     "output_type": "display_data"
    }
   ],
   "source": [
    "fig, (ax, ax2) = plt.subplots(nrows=2, figsize=(4, 6))\n",
    "#camera = Camera(fig)\n",
    "ax.axis('off')\n",
    "ax2.axis('off')\n",
    "ax2.hlines(0, 0, len(friction)-1, color='grey', alpha=0.7, ls='dashed')\n",
    "for i,f in enumerate(friction):\n",
    "    ax.vlines(i, 0, f)\n",
    "max_indices = []\n",
    "for i in range(1, len(friction)+1):\n",
    "    max_indices.append(np.argmax(friction[:i]))\n",
    "max_indices = np.unique(max_indices)\n",
    "ball = ax2.scatter(0, 0, color='green', edgecolors='black', s=200)\n",
    "for step,(m_f, m_t) in enumerate(zip(max_indices[:-1], max_indices[1:])):\n",
    "    for frame,time in enumerate(np.linspace(0, 1, 10)):\n",
    "        ax.hlines( friction[m_f],m_f, (m_t-m_f)*time+m_f, ls='dashed', color='red')\n",
    "        ball.set_facecolor('blue')\n",
    "        ball.set_offsets([(m_t-m_f)*time+m_f, 0])\n",
    "        ax2.set_title(\"Slip\")\n",
    "        #camera.snap()\n",
    "        plt.savefig(\"frames/step_%i_frame=%i.png\"  %(step, frame))\n",
    "    for frame2, time in enumerate(np.linspace(0, 1, 20)):\n",
    "        ax.vlines(m_t, friction[m_f], (friction[m_t]-friction[m_f])*time + friction[m_f], color='green')\n",
    "        ball.set_facecolor('yellow')\n",
    "        #camera.snap()\n",
    "        ax2.set_title(\"Stick\")\n",
    "        plt.savefig(\"frames/step_%i_frame=%i.png\"  %(step, frame2+frame))\n",
    "\n",
    "for frame,time in enumerate(np.linspace(0, 1, 10)):\n",
    "    ax.hlines( friction[max_indices[-1]],m_t, (len(friction)-1 - m_t)*time + m_t, ls='dashed', color='red')\n",
    "    ball.set_facecolor('blue')\n",
    "    ball.set_offsets([(len(friction)-1 - m_t)*time + m_t, 0])\n",
    "    ax2.set_title(\"Slip\")\n",
    "    plt.savefig(\"frames/step_%i_frame=%i.png\"  %(step+1, frame))\n",
    "#camera.snap()\n",
    "#animation = camera.animate()\n",
    "#animation.save('animation.mp4')"
   ]
  },
  {
   "cell_type": "code",
   "execution_count": null,
   "metadata": {},
   "outputs": [],
   "source": []
  }
 ],
 "metadata": {
  "kernelspec": {
   "display_name": "Python 3",
   "language": "python",
   "name": "python3"
  },
  "language_info": {
   "codemirror_mode": {
    "name": "ipython",
    "version": 3
   },
   "file_extension": ".py",
   "mimetype": "text/x-python",
   "name": "python",
   "nbconvert_exporter": "python",
   "pygments_lexer": "ipython3",
   "version": "3.11.6"
  }
 },
 "nbformat": 4,
 "nbformat_minor": 2
}
