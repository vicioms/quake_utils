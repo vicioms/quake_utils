{
 "cells": [
  {
   "cell_type": "code",
   "execution_count": 2,
   "metadata": {},
   "outputs": [],
   "source": [
    "import torch\n",
    "import torch.nn as nn\n",
    "import torch.nn.functional as F\n",
    "import torch.optim as optim\n",
    "import numpy as np\n",
    "import pandas as pd\n",
    "import datetime\n",
    "from libs.sequences import SeismicSequence\n",
    "from libs.iris import irisRequests\n",
    "from libs.distributions import Weibull, WeibullMM, GaussianMM, InterTimeDistribution\n",
    "from importlib import reload  # Python 3.4+\n",
    "import matplotlib.pyplot as plt"
   ]
  },
  {
   "cell_type": "markdown",
   "metadata": {},
   "source": [
    "# Model"
   ]
  },
  {
   "cell_type": "code",
   "execution_count": 3,
   "metadata": {},
   "outputs": [],
   "source": [
    "def get_time_nll_loss(inter_times : torch.Tensor, seq_lengths : torch.Tensor, inter_time_distr : InterTimeDistribution):\n",
    "    log_prob = inter_time_distr.get_log_prob(inter_times)\n",
    "    mask = SeismicSequence.pack_sequences_mask(seq_lengths, inter_times.shape[1])\n",
    "    log_like = (log_prob * mask).sum(-1)  # (N,)\n",
    "    log_surv = inter_time_distr.get_log_survival(inter_times)  # (N, L)\n",
    "    end_idx = torch.unsqueeze(seq_lengths,-1)  # (N, 1)\n",
    "    log_surv_last = torch.gather(log_surv, dim=-1, index=end_idx)  # (N, 1)\n",
    "    log_like += log_surv_last.squeeze(-1)  # (N,)\n",
    "    return -log_like"
   ]
  },
  {
   "cell_type": "code",
   "execution_count": 4,
   "metadata": {},
   "outputs": [],
   "source": [
    "class GRUPointProcess(nn.Module):\n",
    "    def __init__(self, input_dim, hidden_dim, n_mixtures=1):\n",
    "        super().__init__()\n",
    "        self.rnn = nn.GRU(input_dim,hidden_dim,\n",
    "                          num_layers=1,\n",
    "                          batch_first=True)\n",
    "        self.n_mixtures = n_mixtures\n",
    "        if(self.n_mixtures==1):\n",
    "            self.weibull_mod = nn.Sequential(\n",
    "                nn.Linear(hidden_dim, 2),\n",
    "                nn.Softplus()\n",
    "            )\n",
    "        else:\n",
    "            self.weibull_mod = nn.Sequential(\n",
    "                nn.Linear(hidden_dim, self.n_mixtures*2),\n",
    "                nn.Softplus()\n",
    "            )\n",
    "            self.mixture_mod = nn.Sequential(\n",
    "                nn.Linear(hidden_dim, self.n_mixtures),\n",
    "                nn.Softmax(dim=-1)\n",
    "            )\n",
    "    def forward(self,x):\n",
    "        rnn_output, _ = self.rnn(x)\n",
    "        # shift forward along the time dimension and pad\n",
    "        # so we can use it to model the inter times\n",
    "        context = F.pad(rnn_output[:, :-1, :], (0,0, 1,0))\n",
    "        weibull_params = self.weibull_mod(context)\n",
    "        if(self.n_mixtures == 1):\n",
    "            distr = Weibull(weibull_params[..., 0], weibull_params[..., 1])\n",
    "        else:\n",
    "            pip_params = self.mixture_mod(context)\n",
    "            distr = WeibullMM(pip_params, weibull_params[..., :self.n_mixtures], weibull_params[..., self.n_mixtures:])\n",
    "        return context, distr"
   ]
  },
  {
   "cell_type": "markdown",
   "metadata": {},
   "source": [
    "# Data"
   ]
  },
  {
   "cell_type": "code",
   "execution_count": 5,
   "metadata": {},
   "outputs": [],
   "source": [
    "# specify regions limits\n",
    "regions = {}\n",
    "regions['greece'] = (30, 45,18, 44)\n",
    "regions['california'] = (30, 41, -125, -113)\n",
    "regions['japan'] = (20, 50, 120, 150)\n",
    "regions['italy'] = (35,46,6, 19)"
   ]
  },
  {
   "cell_type": "code",
   "execution_count": 6,
   "metadata": {},
   "outputs": [
    {
     "name": "stderr",
     "output_type": "stream",
     "text": [
      "/tmp/ipykernel_21120/3562696496.py:5: DtypeWarning: Columns (8) have mixed types. Specify dtype option on import or set low_memory=False.\n",
      "  df = pd.read_csv(\"catalogs/\" + region_name + \".csv\", parse_dates=['Time'])\n"
     ]
    }
   ],
   "source": [
    "load_cat = True\n",
    "region_name = \"japan\"\n",
    "region = regions[region_name]\n",
    "if(load_cat):\n",
    "    df = pd.read_csv(\"catalogs/\" + region_name + \".csv\", parse_dates=['Time'])\n",
    "else:\n",
    "    start_time = datetime.datetime(1980, 1, 1, 0, 0, 0)\n",
    "    end_time =  datetime.datetime(2024, 1, 1, 0, 0, 0)\n",
    "    download_url =irisRequests.url_events_box(start_time, end_time, region[0], region[1], region[2], region[3], minmag=3, magtype=\"MW\")\n",
    "    df = pd.read_csv(download_url, sep=\"|\", comment=\"#\")\n",
    "    df.Time = pd.to_datetime(df.Time, errors='coerce')\n",
    "    df.dropna(axis=0, inplace=True)\n",
    "    df.sort_values(by=\"Time\", inplace=True)\n",
    "    df.reset_index(inplace=True, drop=True)\n",
    "    df.to_csv(\"catalogs/japan.csv\", index=False)"
   ]
  },
  {
   "cell_type": "code",
   "execution_count": 7,
   "metadata": {},
   "outputs": [],
   "source": [
    "train_sequences = SeismicSequence.from_pandas_df(df[df.Time < datetime.datetime(2012, 1, 1, 0, 0, 0, tzinfo=datetime.UTC)], unit='s')"
   ]
  },
  {
   "cell_type": "markdown",
   "metadata": {},
   "source": [
    "# Training"
   ]
  },
  {
   "cell_type": "code",
   "execution_count": 8,
   "metadata": {},
   "outputs": [],
   "source": [
    "model = GRUPointProcess(1, 10, n_mixtures=1)"
   ]
  },
  {
   "cell_type": "code",
   "execution_count": 9,
   "metadata": {},
   "outputs": [],
   "source": [
    "optimizer = optim.AdamW(model.parameters(), lr=0.001)"
   ]
  },
  {
   "cell_type": "code",
   "execution_count": 10,
   "metadata": {},
   "outputs": [
    {
     "name": "stdout",
     "output_type": "stream",
     "text": [
      "0\n",
      "6669.27880859375\n",
      "1\n",
      "6948.095703125\n",
      "2\n",
      "6314.42333984375\n",
      "3\n",
      "6199.8271484375\n",
      "4\n",
      "6256.56640625\n",
      "5\n",
      "5857.1787109375\n",
      "6\n",
      "5814.26171875\n",
      "7\n",
      "5394.23193359375\n",
      "8\n",
      "5372.42822265625\n",
      "9\n",
      "5309.64111328125\n",
      "10\n",
      "4909.232421875\n",
      "11\n",
      "4873.53369140625\n",
      "12\n",
      "4884.2998046875\n",
      "13\n",
      "4454.9130859375\n",
      "14\n",
      "4729.7685546875\n",
      "15\n",
      "4333.6181640625\n",
      "16\n",
      "4252.6962890625\n",
      "17\n",
      "4182.365234375\n",
      "18\n",
      "4077.15087890625\n",
      "19\n",
      "3938.952880859375\n",
      "20\n",
      "3723.66259765625\n",
      "21\n",
      "1784.9522705078125\n",
      "22\n",
      "1558.4620361328125\n",
      "23\n",
      "1515.844482421875\n",
      "24\n",
      "1426.73388671875\n",
      "25\n",
      "1408.40673828125\n",
      "26\n",
      "1424.260498046875\n",
      "27\n",
      "1390.0526123046875\n",
      "28\n",
      "1349.705078125\n",
      "29\n",
      "1363.6051025390625\n",
      "30\n",
      "1351.8634033203125\n",
      "31\n",
      "1337.99560546875\n",
      "32\n",
      "1323.8087158203125\n",
      "33\n",
      "1303.995361328125\n",
      "34\n"
     ]
    },
    {
     "ename": "KeyboardInterrupt",
     "evalue": "",
     "output_type": "error",
     "traceback": [
      "\u001b[0;31m---------------------------------------------------------------------------\u001b[0m",
      "\u001b[0;31mKeyboardInterrupt\u001b[0m                         Traceback (most recent call last)",
      "\u001b[1;32m/home/schimmenti/Desktop/quake_utils/test.ipynb Cell 12\u001b[0m line \u001b[0;36m2\n\u001b[1;32m     <a href='vscode-notebook-cell:/home/schimmenti/Desktop/quake_utils/test.ipynb#X14sZmlsZQ%3D%3D?line=22'>23</a>\u001b[0m optimizer\u001b[39m.\u001b[39mzero_grad()\n\u001b[1;32m     <a href='vscode-notebook-cell:/home/schimmenti/Desktop/quake_utils/test.ipynb#X14sZmlsZQ%3D%3D?line=23'>24</a>\u001b[0m input_time_features \u001b[39m=\u001b[39m inter_times\u001b[39m.\u001b[39munsqueeze(\u001b[39m-\u001b[39m\u001b[39m1\u001b[39m)\n\u001b[0;32m---> <a href='vscode-notebook-cell:/home/schimmenti/Desktop/quake_utils/test.ipynb#X14sZmlsZQ%3D%3D?line=24'>25</a>\u001b[0m context, distr \u001b[39m=\u001b[39m model(input_time_features)\n\u001b[1;32m     <a href='vscode-notebook-cell:/home/schimmenti/Desktop/quake_utils/test.ipynb#X14sZmlsZQ%3D%3D?line=25'>26</a>\u001b[0m loss \u001b[39m=\u001b[39m get_time_nll_loss(inter_times, lengths, distr)\u001b[39m.\u001b[39mmean()\n\u001b[1;32m     <a href='vscode-notebook-cell:/home/schimmenti/Desktop/quake_utils/test.ipynb#X14sZmlsZQ%3D%3D?line=26'>27</a>\u001b[0m loss\u001b[39m.\u001b[39mbackward()\n",
      "File \u001b[0;32m~/anaconda3/lib/python3.11/site-packages/torch/nn/modules/module.py:1518\u001b[0m, in \u001b[0;36mModule._wrapped_call_impl\u001b[0;34m(self, *args, **kwargs)\u001b[0m\n\u001b[1;32m   1516\u001b[0m     \u001b[39mreturn\u001b[39;00m \u001b[39mself\u001b[39m\u001b[39m.\u001b[39m_compiled_call_impl(\u001b[39m*\u001b[39margs, \u001b[39m*\u001b[39m\u001b[39m*\u001b[39mkwargs)  \u001b[39m# type: ignore[misc]\u001b[39;00m\n\u001b[1;32m   1517\u001b[0m \u001b[39melse\u001b[39;00m:\n\u001b[0;32m-> 1518\u001b[0m     \u001b[39mreturn\u001b[39;00m \u001b[39mself\u001b[39m\u001b[39m.\u001b[39m_call_impl(\u001b[39m*\u001b[39margs, \u001b[39m*\u001b[39m\u001b[39m*\u001b[39mkwargs)\n",
      "File \u001b[0;32m~/anaconda3/lib/python3.11/site-packages/torch/nn/modules/module.py:1527\u001b[0m, in \u001b[0;36mModule._call_impl\u001b[0;34m(self, *args, **kwargs)\u001b[0m\n\u001b[1;32m   1522\u001b[0m \u001b[39m# If we don't have any hooks, we want to skip the rest of the logic in\u001b[39;00m\n\u001b[1;32m   1523\u001b[0m \u001b[39m# this function, and just call forward.\u001b[39;00m\n\u001b[1;32m   1524\u001b[0m \u001b[39mif\u001b[39;00m \u001b[39mnot\u001b[39;00m (\u001b[39mself\u001b[39m\u001b[39m.\u001b[39m_backward_hooks \u001b[39mor\u001b[39;00m \u001b[39mself\u001b[39m\u001b[39m.\u001b[39m_backward_pre_hooks \u001b[39mor\u001b[39;00m \u001b[39mself\u001b[39m\u001b[39m.\u001b[39m_forward_hooks \u001b[39mor\u001b[39;00m \u001b[39mself\u001b[39m\u001b[39m.\u001b[39m_forward_pre_hooks\n\u001b[1;32m   1525\u001b[0m         \u001b[39mor\u001b[39;00m _global_backward_pre_hooks \u001b[39mor\u001b[39;00m _global_backward_hooks\n\u001b[1;32m   1526\u001b[0m         \u001b[39mor\u001b[39;00m _global_forward_hooks \u001b[39mor\u001b[39;00m _global_forward_pre_hooks):\n\u001b[0;32m-> 1527\u001b[0m     \u001b[39mreturn\u001b[39;00m forward_call(\u001b[39m*\u001b[39margs, \u001b[39m*\u001b[39m\u001b[39m*\u001b[39mkwargs)\n\u001b[1;32m   1529\u001b[0m \u001b[39mtry\u001b[39;00m:\n\u001b[1;32m   1530\u001b[0m     result \u001b[39m=\u001b[39m \u001b[39mNone\u001b[39;00m\n",
      "\u001b[1;32m/home/schimmenti/Desktop/quake_utils/test.ipynb Cell 12\u001b[0m line \u001b[0;36m2\n\u001b[1;32m     <a href='vscode-notebook-cell:/home/schimmenti/Desktop/quake_utils/test.ipynb#X14sZmlsZQ%3D%3D?line=21'>22</a>\u001b[0m \u001b[39mdef\u001b[39;00m \u001b[39mforward\u001b[39m(\u001b[39mself\u001b[39m,x):\n\u001b[0;32m---> <a href='vscode-notebook-cell:/home/schimmenti/Desktop/quake_utils/test.ipynb#X14sZmlsZQ%3D%3D?line=22'>23</a>\u001b[0m     rnn_output, _ \u001b[39m=\u001b[39m \u001b[39mself\u001b[39m\u001b[39m.\u001b[39mrnn(x)\n\u001b[1;32m     <a href='vscode-notebook-cell:/home/schimmenti/Desktop/quake_utils/test.ipynb#X14sZmlsZQ%3D%3D?line=23'>24</a>\u001b[0m     \u001b[39m# shift forward along the time dimension and pad\u001b[39;00m\n\u001b[1;32m     <a href='vscode-notebook-cell:/home/schimmenti/Desktop/quake_utils/test.ipynb#X14sZmlsZQ%3D%3D?line=24'>25</a>\u001b[0m     \u001b[39m# so we can use it to model the inter times\u001b[39;00m\n\u001b[1;32m     <a href='vscode-notebook-cell:/home/schimmenti/Desktop/quake_utils/test.ipynb#X14sZmlsZQ%3D%3D?line=25'>26</a>\u001b[0m     context \u001b[39m=\u001b[39m F\u001b[39m.\u001b[39mpad(rnn_output[:, :\u001b[39m-\u001b[39m\u001b[39m1\u001b[39m, :], (\u001b[39m0\u001b[39m,\u001b[39m0\u001b[39m, \u001b[39m1\u001b[39m,\u001b[39m0\u001b[39m))\n",
      "File \u001b[0;32m~/anaconda3/lib/python3.11/site-packages/torch/nn/modules/module.py:1518\u001b[0m, in \u001b[0;36mModule._wrapped_call_impl\u001b[0;34m(self, *args, **kwargs)\u001b[0m\n\u001b[1;32m   1516\u001b[0m     \u001b[39mreturn\u001b[39;00m \u001b[39mself\u001b[39m\u001b[39m.\u001b[39m_compiled_call_impl(\u001b[39m*\u001b[39margs, \u001b[39m*\u001b[39m\u001b[39m*\u001b[39mkwargs)  \u001b[39m# type: ignore[misc]\u001b[39;00m\n\u001b[1;32m   1517\u001b[0m \u001b[39melse\u001b[39;00m:\n\u001b[0;32m-> 1518\u001b[0m     \u001b[39mreturn\u001b[39;00m \u001b[39mself\u001b[39m\u001b[39m.\u001b[39m_call_impl(\u001b[39m*\u001b[39margs, \u001b[39m*\u001b[39m\u001b[39m*\u001b[39mkwargs)\n",
      "File \u001b[0;32m~/anaconda3/lib/python3.11/site-packages/torch/nn/modules/module.py:1527\u001b[0m, in \u001b[0;36mModule._call_impl\u001b[0;34m(self, *args, **kwargs)\u001b[0m\n\u001b[1;32m   1522\u001b[0m \u001b[39m# If we don't have any hooks, we want to skip the rest of the logic in\u001b[39;00m\n\u001b[1;32m   1523\u001b[0m \u001b[39m# this function, and just call forward.\u001b[39;00m\n\u001b[1;32m   1524\u001b[0m \u001b[39mif\u001b[39;00m \u001b[39mnot\u001b[39;00m (\u001b[39mself\u001b[39m\u001b[39m.\u001b[39m_backward_hooks \u001b[39mor\u001b[39;00m \u001b[39mself\u001b[39m\u001b[39m.\u001b[39m_backward_pre_hooks \u001b[39mor\u001b[39;00m \u001b[39mself\u001b[39m\u001b[39m.\u001b[39m_forward_hooks \u001b[39mor\u001b[39;00m \u001b[39mself\u001b[39m\u001b[39m.\u001b[39m_forward_pre_hooks\n\u001b[1;32m   1525\u001b[0m         \u001b[39mor\u001b[39;00m _global_backward_pre_hooks \u001b[39mor\u001b[39;00m _global_backward_hooks\n\u001b[1;32m   1526\u001b[0m         \u001b[39mor\u001b[39;00m _global_forward_hooks \u001b[39mor\u001b[39;00m _global_forward_pre_hooks):\n\u001b[0;32m-> 1527\u001b[0m     \u001b[39mreturn\u001b[39;00m forward_call(\u001b[39m*\u001b[39margs, \u001b[39m*\u001b[39m\u001b[39m*\u001b[39mkwargs)\n\u001b[1;32m   1529\u001b[0m \u001b[39mtry\u001b[39;00m:\n\u001b[1;32m   1530\u001b[0m     result \u001b[39m=\u001b[39m \u001b[39mNone\u001b[39;00m\n",
      "File \u001b[0;32m~/anaconda3/lib/python3.11/site-packages/torch/nn/modules/rnn.py:1102\u001b[0m, in \u001b[0;36mGRU.forward\u001b[0;34m(self, input, hx)\u001b[0m\n\u001b[1;32m   1100\u001b[0m \u001b[39mself\u001b[39m\u001b[39m.\u001b[39mcheck_forward_args(\u001b[39minput\u001b[39m, hx, batch_sizes)\n\u001b[1;32m   1101\u001b[0m \u001b[39mif\u001b[39;00m batch_sizes \u001b[39mis\u001b[39;00m \u001b[39mNone\u001b[39;00m:\n\u001b[0;32m-> 1102\u001b[0m     result \u001b[39m=\u001b[39m _VF\u001b[39m.\u001b[39mgru(\u001b[39minput\u001b[39m, hx, \u001b[39mself\u001b[39m\u001b[39m.\u001b[39m_flat_weights, \u001b[39mself\u001b[39m\u001b[39m.\u001b[39mbias, \u001b[39mself\u001b[39m\u001b[39m.\u001b[39mnum_layers,\n\u001b[1;32m   1103\u001b[0m                      \u001b[39mself\u001b[39m\u001b[39m.\u001b[39mdropout, \u001b[39mself\u001b[39m\u001b[39m.\u001b[39mtraining, \u001b[39mself\u001b[39m\u001b[39m.\u001b[39mbidirectional, \u001b[39mself\u001b[39m\u001b[39m.\u001b[39mbatch_first)\n\u001b[1;32m   1104\u001b[0m \u001b[39melse\u001b[39;00m:\n\u001b[1;32m   1105\u001b[0m     result \u001b[39m=\u001b[39m _VF\u001b[39m.\u001b[39mgru(\u001b[39minput\u001b[39m, batch_sizes, hx, \u001b[39mself\u001b[39m\u001b[39m.\u001b[39m_flat_weights, \u001b[39mself\u001b[39m\u001b[39m.\u001b[39mbias,\n\u001b[1;32m   1106\u001b[0m                      \u001b[39mself\u001b[39m\u001b[39m.\u001b[39mnum_layers, \u001b[39mself\u001b[39m\u001b[39m.\u001b[39mdropout, \u001b[39mself\u001b[39m\u001b[39m.\u001b[39mtraining, \u001b[39mself\u001b[39m\u001b[39m.\u001b[39mbidirectional)\n",
      "\u001b[0;31mKeyboardInterrupt\u001b[0m: "
     ]
    }
   ],
   "source": [
    "epochs = 100\n",
    "use_random_length = True\n",
    "duration_days = 3\n",
    "duration = 60*60*24*duration_days # in seconds\n",
    "for epoch in range(epochs):\n",
    "    print(epoch)\n",
    "    with torch.no_grad():\n",
    "        seqs = []\n",
    "        t_start = duration\n",
    "        max_t_end = train_sequences.t_end\n",
    "        while(True):\n",
    "            if(use_random_length):\n",
    "                t_end = t_start + np.random.exponential()*duration\n",
    "            else:\n",
    "                t_end = t_start + duration\n",
    "            if(t_end > max_t_end):\n",
    "                break\n",
    "            sub_seq = train_sequences.get_subsequence(t_start, t_end)\n",
    "            if(len(sub_seq.arrival_times) > 0):\n",
    "                seqs.append(sub_seq)\n",
    "            t_start = t_end\n",
    "        inter_times, features, lengths = SeismicSequence.pack_sequences(seqs) \n",
    "    optimizer.zero_grad()\n",
    "    input_time_features = inter_times.unsqueeze(-1)\n",
    "    context, distr = model(input_time_features)\n",
    "    loss = get_time_nll_loss(inter_times, lengths, distr).mean()\n",
    "    loss.backward()\n",
    "    optimizer.step()\n",
    "    print(loss.item())"
   ]
  },
  {
   "cell_type": "code",
   "execution_count": null,
   "metadata": {},
   "outputs": [],
   "source": []
  }
 ],
 "metadata": {
  "kernelspec": {
   "display_name": "base",
   "language": "python",
   "name": "python3"
  },
  "language_info": {
   "codemirror_mode": {
    "name": "ipython",
    "version": 3
   },
   "file_extension": ".py",
   "mimetype": "text/x-python",
   "name": "python",
   "nbconvert_exporter": "python",
   "pygments_lexer": "ipython3",
   "version": "3.11.5"
  },
  "orig_nbformat": 4
 },
 "nbformat": 4,
 "nbformat_minor": 2
}
