{
 "cells": [
  {
   "cell_type": "code",
   "execution_count": 1,
   "metadata": {},
   "outputs": [],
   "source": [
    "import numpy as np\n",
    "import matplotlib.pyplot as plt\n",
    "import pandas as pd\n",
    "import ngl\n",
    "from scipy.spatial import Delaunay, Voronoi "
   ]
  },
  {
   "cell_type": "code",
   "execution_count": 2,
   "metadata": {},
   "outputs": [],
   "source": [
    "rootpath = \"csv_24/\""
   ]
  },
  {
   "cell_type": "code",
   "execution_count": 3,
   "metadata": {},
   "outputs": [],
   "source": [
    "station_list = ngl.ngl_process_list(ngl.ngl_24h_2w) # daily measurements, with 2 weeks delay"
   ]
  },
  {
   "cell_type": "code",
   "execution_count": 4,
   "metadata": {},
   "outputs": [],
   "source": [
    "station_names, station_lats, station_lons = ngl.get_all_stations_within_radius(station_list, lat_origin=37, lon_origin=37, maximal_radius=200 )"
   ]
  },
  {
   "cell_type": "code",
   "execution_count": 7,
   "metadata": {},
   "outputs": [
    {
     "name": "stdout",
     "output_type": "stream",
     "text": [
      "ADAN loaded\n",
      "ADIY loaded\n",
      "ADN2 loaded\n",
      "ADY1 loaded\n",
      "AKLE loaded\n",
      "ANTP loaded\n",
      "ARST loaded\n",
      "EKIZ loaded\n",
      "EKZ1 loaded\n",
      "FEEK loaded\n",
      "GURU loaded\n",
      "HAT1 loaded\n",
      "HAT2 loaded\n",
      "HATA loaded\n",
      "HRR2 loaded\n",
      "HRRN loaded\n",
      "KAHR loaded\n",
      "KLIS loaded\n",
      "KLS1 loaded\n",
      "MALY loaded\n",
      "MLY1 loaded\n",
      "ONIY loaded\n",
      "POZA loaded\n",
      "SUF1 loaded\n",
      "SURF loaded\n",
      "TUF1 loaded\n",
      "TUFA loaded\n"
     ]
    }
   ],
   "source": [
    "dataframes = {}\n",
    "init_coords_dict = {}\n",
    "init_coords = []\n",
    "for (name, lat, lon) in zip(station_names, station_lats, station_lons):\n",
    "    df, status = ngl.ngl_retrieve_24h(rootpath, name)\n",
    "    if(df is None):\n",
    "        continue\n",
    "    print(name, status)\n",
    "    dataframes[name] = df\n",
    "    init_coords_dict[name] = (lat, lon)\n",
    "    init_coords.append((lat,lon))\n",
    "init_coords = np.array(init_coords)"
   ]
  },
  {
   "cell_type": "code",
   "execution_count": null,
   "metadata": {},
   "outputs": [],
   "source": []
  }
 ],
 "metadata": {
  "kernelspec": {
   "display_name": "base",
   "language": "python",
   "name": "python3"
  },
  "language_info": {
   "codemirror_mode": {
    "name": "ipython",
    "version": 3
   },
   "file_extension": ".py",
   "mimetype": "text/x-python",
   "name": "python",
   "nbconvert_exporter": "python",
   "pygments_lexer": "ipython3",
   "version": "3.9.13"
  },
  "orig_nbformat": 4
 },
 "nbformat": 4,
 "nbformat_minor": 2
}
