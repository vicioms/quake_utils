{
 "cells": [
  {
   "cell_type": "code",
   "execution_count": 28,
   "metadata": {},
   "outputs": [],
   "source": [
    "import torch\n",
    "import torch.nn as nn\n",
    "import torch.nn.functional as F\n",
    "import torch.optim as optim\n",
    "import numpy as np\n",
    "import pandas as pd\n",
    "import datetime\n",
    "from importlib import reload  # Python 3.4+\n",
    "import matplotlib.pyplot as plt\n",
    "from sklearn.preprocessing import StandardScaler\n",
    "from torch.optim.lr_scheduler import ExponentialLR\n",
    "\n",
    "from libs.sequences import SeismicSequence\n",
    "from libs.iris import irisRequests\n",
    "from libs.distributions_ale import Weibull, InterTimeDistribution, Exponential, Gaussian_xy_mixture\n"
   ]
  },
  {
   "cell_type": "markdown",
   "metadata": {},
   "source": [
    "# Data"
   ]
  },
  {
   "cell_type": "code",
   "execution_count": 29,
   "metadata": {},
   "outputs": [],
   "source": [
    "#regions is a dictionary. regions['country'] contains minimum lat and max lat; minimum long and max long of that country\n",
    "\n",
    "regions = {}\n",
    "regions['greece'] = (30, 45,18, 44)\n",
    "regions['california'] = (30, 41, -125, -113)\n",
    "regions['japan'] = (20, 50, 120, 150)\n",
    "regions['italy'] = (35, 46, 6, 19)"
   ]
  },
  {
   "cell_type": "code",
   "execution_count": 30,
   "metadata": {},
   "outputs": [
    {
     "name": "stderr",
     "output_type": "stream",
     "text": [
      "/var/folders/h7/r96hnpz57nxft7rrtnbx7p7h0000gq/T/ipykernel_16086/1542237038.py:7: DtypeWarning: Columns (8) have mixed types. Specify dtype option on import or set low_memory=False.\n",
      "  df = pd.read_csv(\"catalogs/\" + region_name + \".csv\", parse_dates=['Time']) #useful to tell to pd that the Time column is a date time column. Times are UTC\n"
     ]
    }
   ],
   "source": [
    "#load the japan data\n",
    "\n",
    "load_cat = True\n",
    "region_name = \"japan\"\n",
    "region = regions[region_name]\n",
    "if(load_cat):\n",
    "    df = pd.read_csv(\"catalogs/\" + region_name + \".csv\", parse_dates=['Time']) #useful to tell to pd that the Time column is a date time column. Times are UTC\n",
    "else:\n",
    "    start_time = datetime.datetime(1980, 1, 1, 0, 0, 0)\n",
    "    end_time =  datetime.datetime(2024, 1, 1, 0, 0, 0)\n",
    "    download_url =irisRequests.url_events_box(start_time, end_time, region[0], region[1], region[2], region[3], minmag=3, magtype=\"MW\")\n",
    "    df = pd.read_csv(download_url, sep=\"|\", comment=\"#\")\n",
    "    df.Time = pd.to_datetime(df.Time, errors='coerce')\n",
    "    df.dropna(axis=0, inplace=True)\n",
    "    df.sort_values(by=\"Time\", inplace=True)\n",
    "    df.reset_index(inplace=True, drop=True)\n",
    "    df.to_csv(\"catalogs/japan.csv\", index=False)"
   ]
  },
  {
   "cell_type": "code",
   "execution_count": 31,
   "metadata": {},
   "outputs": [],
   "source": [
    "#divide our data into a test and train set\n",
    "separation_time = datetime.datetime(2012, 1, 1, 0, 0, 0, tzinfo=datetime.UTC)\n",
    "df_train = df[df.Time<separation_time]\n",
    "df_test = df[df.Time>separation_time]\n",
    "\n",
    "#get all the sequences first, and then divide into train and test sets according to prop\n",
    "all_sequences = SeismicSequence.from_pandas_df(df, unit='s')\n",
    "#proportion to split train and test sets\n",
    "prop = df_train.shape[0]/(df_train.shape[0]+df_test.shape[0])"
   ]
  },
  {
   "cell_type": "code",
   "execution_count": 32,
   "metadata": {},
   "outputs": [],
   "source": [
    "#get the train and test sets of times, lats, lons\n",
    "\n",
    "use_random_length = False\n",
    "duration_days = 3\n",
    "duration = 60*60*24*duration_days # in seconds\n",
    "\n",
    "with torch.no_grad():\n",
    "    seqs = []\n",
    "    t_start = duration\n",
    "    max_t_end = all_sequences.t_end #sum of all inter_times between various events\n",
    "    while(True):\n",
    "        if(use_random_length):\n",
    "            t_end = t_start + np.random.exponential()*duration\n",
    "        else:\n",
    "            t_end = t_start + duration\n",
    "        if(t_end > max_t_end):\n",
    "            break\n",
    "        sub_seq = all_sequences.get_subsequence(t_start, t_end)\n",
    "        if(len(sub_seq.arrival_times) > 0):\n",
    "            seqs.append(sub_seq)  \n",
    "        t_start = t_end\n",
    "    inter_times, features, lengths = SeismicSequence.pack_sequences(seqs) \n",
    "    separate_times = int(inter_times.shape[0]*prop)\n",
    "\n",
    "    #construct the train set\n",
    "    #times\n",
    "    inter_times_train = inter_times[0:separate_times]\n",
    "    lengths_train = lengths[0:separate_times]\n",
    "    #lats and lons (add a zero at the end to match the inter_times shape)\n",
    "    features_lats_train = features[0:separate_times][:,:,0]\n",
    "    features_lons_train = features[0:separate_times][:,:,1]\n",
    "    new_shape = (features_lats_train.shape[0],  1)\n",
    "    features_lats_train = torch.cat((features_lats_train, torch.zeros(new_shape)), dim=1)\n",
    "    features_lons_train = torch.cat((features_lons_train, torch.zeros(new_shape)), dim=1)\n",
    "    #scale lats and lons\n",
    "    sc_lats = StandardScaler()\n",
    "    sc_lons = StandardScaler()\n",
    "    features_lats_train = torch.tensor(sc_lats.fit_transform(features_lats_train), dtype=torch.float32)\n",
    "    features_lons_train = torch.tensor(sc_lons.fit_transform(features_lons_train), dtype=torch.float32)\n",
    "    #magnitude (add a zero at the end to match the inter_times shape)\n",
    "    magnitude_train = features[0:separate_times][:,:,2]\n",
    "    new_shape = (magnitude_train.shape[0],  1)\n",
    "    magnitude_train = torch.cat((magnitude_train, torch.zeros(new_shape)), dim=1)\n",
    "    #merge into a unique train set\n",
    "    input_time_features_train = inter_times_train.unsqueeze(-1)\n",
    "    input_lats_features_train = features_lats_train.unsqueeze(-1)\n",
    "    input_lons_features_train = features_lons_train.unsqueeze(-1)\n",
    "    input_magnitude_train = magnitude_train.unsqueeze(-1)\n",
    "    train_set = torch.cat((input_time_features_train, input_lats_features_train, input_lons_features_train, input_magnitude_train), dim=-1)\n",
    "\n",
    "\n",
    "    #construct test set, as for the train\n",
    "    #times\n",
    "    inter_times_test = inter_times[separate_times::]\n",
    "    lengths_test = lengths[separate_times::]\n",
    "    #lats and lons\n",
    "    features_lats_test = features[separate_times::][:,:,0]\n",
    "    features_lons_test = features[separate_times::][:,:,1]\n",
    "    new_shape = (features_lats_test.shape[0],  1)\n",
    "    features_lats_test = torch.cat((features_lats_test, torch.zeros(new_shape)), dim=1)\n",
    "    features_lons_test = torch.cat((features_lons_test, torch.zeros(new_shape)), dim=1)\n",
    "    features_lats_test = torch.tensor(sc_lats.transform(features_lats_test), dtype=torch.float32)\n",
    "    features_lons_test = torch.tensor(sc_lons.transform(features_lons_test), dtype=torch.float32)\n",
    "    #magnitude\n",
    "    magnitude_test = features[separate_times::][:,:,2]\n",
    "    new_shape = (magnitude_test.shape[0],  1)\n",
    "    magnitude_test = torch.cat((magnitude_test, torch.zeros(new_shape)), dim=1)\n",
    "\n",
    "\n",
    "    #number of test events\n",
    "    num_test = inter_times_test.shape[0]"
   ]
  },
  {
   "cell_type": "markdown",
   "metadata": {},
   "source": [
    "# Model"
   ]
  },
  {
   "cell_type": "code",
   "execution_count": 33,
   "metadata": {},
   "outputs": [],
   "source": [
    "#nll for the times\n",
    "def get_time_nll_loss(inter_times : torch.Tensor, seq_lengths : torch.Tensor, inter_time_distr : InterTimeDistribution):\n",
    "    log_prob = inter_time_distr.get_log_prob(inter_times)\n",
    "    mask = SeismicSequence.pack_sequences_mask(seq_lengths, inter_times.shape[1])\n",
    "    log_like = (log_prob * mask).sum(-1)  # (N,)\n",
    "    log_surv = inter_time_distr.get_log_survival(inter_times)  # (N, L)\n",
    "    end_idx = torch.unsqueeze(seq_lengths, -1)  # (N, 1)\n",
    "    log_surv_last = torch.gather(log_surv, dim=-1, index=end_idx)  # (N, 1)\n",
    "    log_like += log_surv_last.squeeze(-1)  # (N,)\n",
    "    return -log_like\n",
    "\n",
    "#nll for the (lat, lons) coordinates\n",
    "def get_position_nll_loss(pos_lat : torch.Tensor, pos_lon : torch.Tensor,  seq_lengths : torch.Tensor, pos_distr : InterTimeDistribution):\n",
    "    log_prob = pos_distr.get_log_prob(pos_lat, pos_lon)\n",
    "    mask = SeismicSequence.pack_sequences_mask(seq_lengths, pos_lat.shape[1])\n",
    "    log_like = (log_prob * mask).sum(-1)  # (N,)\n",
    "    return -log_like\n",
    "\n",
    "#nll for the magnitudes\n",
    "def get_magnitude_nll_loss(magn : torch.Tensor, seq_lengths : torch.Tensor, magn_ditr : InterTimeDistribution):\n",
    "    log_prob = magn_ditr.get_log_prob(magn)\n",
    "    mask = SeismicSequence.pack_sequences_mask(seq_lengths, magn.shape[1])\n",
    "    log_like = (log_prob * mask).sum(-1)  # (N,)\n",
    "    return -log_like"
   ]
  },
  {
   "cell_type": "code",
   "execution_count": 34,
   "metadata": {},
   "outputs": [],
   "source": [
    "class GRUPointProcess(nn.Module):\n",
    "    \n",
    "    def __init__(self, input_dim, hidden_dim, n_mixtures):\n",
    "        super().__init__()\n",
    "        self.rnn = nn.GRU(input_dim, hidden_dim, num_layers=1, batch_first=True)\n",
    "        self.n_mixtures = n_mixtures\n",
    "        \n",
    "        self.weibull_mod = nn.Sequential(nn.Linear(hidden_dim, 2), nn.Softplus())\n",
    "\n",
    "        #for the positions we need mean = (mean_x, mean_y); variances=(var_x, var_y)>0; cov=cov(x,y); for each gaussian, and Pi_params>0 with .sum()=1 \n",
    "        self.gaussian_mod_mean = nn.Sequential(nn.Linear(hidden_dim, 2*self.n_mixtures))\n",
    "        self.gaussian_mod_var = nn.Sequential(nn.Linear(hidden_dim, 2*self.n_mixtures), nn.Softplus())\n",
    "        self.gaussian_mod_cov = nn.Sequential(nn.Linear(hidden_dim, 1*self.n_mixtures))\n",
    "        self.Pi_params = nn.Sequential(nn.Linear(hidden_dim, 1*self.n_mixtures), nn.Softmax(dim=-1))\n",
    "\n",
    "        #lambda for exponential distribution >0\n",
    "        self.exp_mod_lambda = nn.Sequential(nn.Linear(hidden_dim, 1), nn.Softplus())\n",
    "        \n",
    "\n",
    "    def forward(self,x):\n",
    "        rnn_output, _ = self.rnn(x)\n",
    "        # shift forward along the time dimension and pad\n",
    "        # so we can use it to model the inter times\n",
    "        context = F.pad(rnn_output[:, :-1, :], (0,0, 1,0))\n",
    "\n",
    "        weibull_params = self.weibull_mod(context)\n",
    "        #we collect the parameters as (first n_mixture values are the lat_means), and (second n_mixture values are the lon_means)\n",
    "        means_mix = self.gaussian_mod_mean(context)\n",
    "        #same for the variances as for the means\n",
    "        variances_mix = self.gaussian_mod_var(context)\n",
    "        #each value of covariance is the covariance between lat and lon of a gaussian\n",
    "        covariances_mix = self.gaussian_mod_cov(context)\n",
    "        #probabilities of each gaussian\n",
    "        Pi_params = self.Pi_params(context)\n",
    "\n",
    "        lambda_coeff = self.exp_mod_lambda(context)\n",
    "\n",
    "        distr_weib = Weibull(weibull_params[..., 0], weibull_params[..., 1])\n",
    "        distr_gauss = Gaussian_xy_mixture(means_mix, variances_mix, covariances_mix, Pi_params, self.n_mixtures)\n",
    "        distr_exp = Exponential(lambda_coeff[...,0])\n",
    "\n",
    "        return context, distr_weib, distr_gauss, distr_exp"
   ]
  },
  {
   "cell_type": "markdown",
   "metadata": {},
   "source": [
    "# Training"
   ]
  },
  {
   "cell_type": "code",
   "execution_count": 41,
   "metadata": {},
   "outputs": [],
   "source": [
    "input_dim = train_set.shape[-1]\n",
    "hidden_dim = 20\n",
    "n_mixtures = 2\n",
    "model = GRUPointProcess(input_dim, hidden_dim, n_mixtures)\n",
    "optimizer = optim.AdamW(model.parameters(), lr=0.02)\n",
    "epochs = 10\n",
    "losses = [] \n",
    "losses_test = []\n",
    "vals = []"
   ]
  },
  {
   "cell_type": "code",
   "execution_count": null,
   "metadata": {},
   "outputs": [],
   "source": [
    "for epoch in range(epochs):\n",
    "    print(epoch)\n",
    "    optimizer.zero_grad()\n",
    "    context, distr_weib, distr_gauss, distr_exp = model(train_set)\n",
    "    #for easier manipulation in distribution.py, we repeat each data n_mixture times\n",
    "    loss =  (get_position_nll_loss(features_lats_train.unsqueeze(-1).repeat(1,1,n_mixtures), features_lats_train.unsqueeze(-1).repeat(1,1,n_mixtures), lengths_train, distr_gauss).mean() \n",
    "    + get_time_nll_loss(inter_times_train, lengths_train, distr_weib).mean() \n",
    "    + get_magnitude_nll_loss(magnitude_train, lengths_train, distr_exp).mean())\n",
    "    \n",
    "    loss.backward()\n",
    "    optimizer.step()\n",
    "    #scheduler.step()\n",
    "    \n",
    "    with torch.no_grad():\n",
    "        #collect the parameters for the test set\n",
    "        #from each distrib., collect only the first row, as it equals the other\n",
    "        b_base = distr_weib.b[0].detach()\n",
    "        k_base = distr_weib.k[0].detach()\n",
    "        means_mix = distr_gauss.mean_mix[0].detach() \n",
    "        variances_mix = distr_gauss.variances_mix[0].detach()\n",
    "        covariances_mix = distr_gauss.covariances_mix[0].detach()\n",
    "        Pi_params = distr_gauss.Pi_params[0].detach() \n",
    "        lambda_coeff = distr_exp.lambda_coeff[0].detach()\n",
    "\n",
    "        #repeat the parameters a num_test number of times, to fit test set shapes\n",
    "        distr_weib_test = Weibull(b_base.repeat(num_test,1), k_base.repeat(num_test,1))\n",
    "        distr_gauss_test = Gaussian_xy_mixture(means_mix.repeat(num_test,1,1), variances_mix.repeat(num_test,1,1), covariances_mix.repeat(num_test,1,1), Pi_params.repeat(num_test,1,1), model.n_mixtures)\n",
    "        distr_exp_test = Exponential(lambda_coeff.repeat(num_test,1))\n",
    "        #get test loss as for train loss\n",
    "        loss_test =  (get_position_nll_loss(features_lats_test.unsqueeze(-1).repeat(1,1,n_mixtures), features_lats_test.unsqueeze(-1).repeat(1,1,n_mixtures), lengths_test, distr_gauss_test).mean() \n",
    "        + get_time_nll_loss(inter_times_test, lengths_test, distr_weib_test).mean() \n",
    "        + get_magnitude_nll_loss(magnitude_test, lengths_test, distr_exp_test).mean())\n",
    "        #collect train and test losses\n",
    "        losses.append(loss.detach().numpy())\n",
    "        losses_test.append(loss_test)\n",
    "\n",
    "    print(f'train_loss = {loss.item()}')\n",
    "    print(f'test_loss = {loss_test.item()}')"
   ]
  },
  {
   "cell_type": "code",
   "execution_count": null,
   "metadata": {},
   "outputs": [
    {
     "data": {
      "image/png": "[encoded data removed]",
      "text/plain": [
       "<Figure size 640x480 with 1 Axes>"
      ]
     },
     "metadata": {},
     "output_type": "display_data"
    }
   ],
   "source": [
    "#plot the train and test losses\n",
    "plt.plot(losses, label='train')\n",
    "plt.plot(losses_test, label='test')\n",
    "plt.ylabel('loss')\n",
    "plt.xlabel('epoch')\n",
    "plt.legend()\n",
    "plt.show()"
   ]
  },
  {
   "cell_type": "code",
   "execution_count": null,
   "metadata": {},
   "outputs": [],
   "source": []
  }
 ],
 "metadata": {
  "kernelspec": {
   "display_name": "Python 3",
   "language": "python",
   "name": "python3"
  },
  "language_info": {
   "codemirror_mode": {
    "name": "ipython",
    "version": 3
   },
   "file_extension": ".py",
   "mimetype": "text/x-python",
   "name": "python",
   "nbconvert_exporter": "python",
   "pygments_lexer": "ipython3",
   "version": "3.11.2"
  }
 },
 "nbformat": 4,
 "nbformat_minor": 2
}
