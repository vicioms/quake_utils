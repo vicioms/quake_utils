{
 "cells": [
  {
   "cell_type": "code",
   "execution_count": null,
   "metadata": {},
   "outputs": [],
   "source": [
    "import numpy as np\n",
    "import pandas as pd\n",
    "import matplotlib.pyplot as plt\n",
    "from iris import irisRequests\n",
    "import ngl\n",
    "import datetime\n",
    "from numba import njit\n"
   ]
  },
  {
   "cell_type": "code",
   "execution_count": null,
   "metadata": {},
   "outputs": [],
   "source": [
    "@njit\n",
    "def construct_aftershocks_map(region, coords, dlat, dlon):\n",
    "    N_lat = int((region[1]-region[0])/dlat)\n",
    "    N_lon = int((region[3]-region[2])/dlon)\n",
    "    shocks_map = np.zeros((N_lat, N_lon))\n",
    "    for coord in coords:\n",
    "        i,j = int((coord[0]-region[0])/dlat), int((coord[1]-region[2])/dlon)\n",
    "        shocks_map[i,j] += 1\n",
    "    return shocks_map"
   ]
  },
  {
   "cell_type": "code",
   "execution_count": null,
   "metadata": {},
   "outputs": [],
   "source": [
    "rootpath = \"csv_24/\""
   ]
  },
  {
   "cell_type": "code",
   "execution_count": null,
   "metadata": {},
   "outputs": [],
   "source": [
    "regions = {}\n",
    "regions['japan'] = (20, 50, 120, 150)\n",
    "regions['italy'] = (35,46,6, 19)"
   ]
  },
  {
   "cell_type": "code",
   "execution_count": null,
   "metadata": {},
   "outputs": [],
   "source": [
    "station_list = ngl.ngl_process_list(ngl.ngl_24h_2w) # daily measurements, with 2 weeks delay"
   ]
  },
  {
   "cell_type": "code",
   "execution_count": null,
   "metadata": {},
   "outputs": [],
   "source": [
    "station_info = {}\n",
    "for name, region in regions.items():\n",
    "    station_names, station_lats, station_lons  = ngl.get_all_stations_box(station_list, *region)\n",
    "    station_info[name]= (station_names, station_lats, station_lons)"
   ]
  },
  {
   "cell_type": "code",
   "execution_count": null,
   "metadata": {},
   "outputs": [],
   "source": [
    "station_data = {}\n",
    "for name, s_info in station_info.items():\n",
    "    for s_cnt, s_name in enumerate(s_info[0]):\n",
    "        df, status = ngl.ngl_retrieve_24h(rootpath, s_name)\n",
    "        print(s_name, status)\n",
    "        station_data[s_name] = df"
   ]
  },
  {
   "cell_type": "code",
   "execution_count": null,
   "metadata": {},
   "outputs": [],
   "source": [
    "start_time = datetime.datetime(2000, 1, 1, 0, 0, 0)\n",
    "end_time =  datetime.datetime(2024, 1, 1, 0, 0, 0)\n",
    "catalogs = {}\n",
    "for name, region in regions.items():\n",
    "    download_url =irisRequests.url_events_box(start_time, end_time, region[0], region[1], region[2], region[3], minmag=4, magtype=\"MW\")\n",
    "    df = pd.read_csv(download_url, sep=\"|\", comment=\"#\", parse_dates=[\"Time\"])\n",
    "    df.sort_values(by=\"Time\", inplace=True)\n",
    "    df.reset_index(inplace=True, drop=True)\n",
    "    catalogs[name] = df"
   ]
  },
  {
   "cell_type": "code",
   "execution_count": null,
   "metadata": {},
   "outputs": [],
   "source": [
    "earthquakes = {}\n",
    "maximal_time_shift = np.timedelta64(7, 'D')\n",
    "minimal_time_shift = np.timedelta64(1, 'D')\n",
    "for name, catalog in catalogs.items():\n",
    "    large_shocks = catalog[catalog.Magnitude >= 6]\n",
    "    large_shocks_days = large_shocks.Time\n",
    "    large_shocks_coords =  large_shocks[['Latitude','Longitude']].values\n",
    "    for day, coord in zip(large_shocks_days, large_shocks_coords):\n",
    "        aftershocks = catalog[(catalog.Time >= day + minimal_time_shift)*(catalog.Time <= day +maximal_time_shift ) ]\n",
    "        aftershocks_coords = aftershocks[['Latitude','Longitude']].values\n",
    "        aftershocks_map = construct_aftershocks_map(regions[name], aftershocks_coords, 0.5, 0.5)\n",
    "        plt.imshow(aftershocks_map)\n",
    "        plt.show()"
   ]
  },
  {
   "cell_type": "code",
   "execution_count": null,
   "metadata": {},
   "outputs": [],
   "source": []
  }
 ],
 "metadata": {
  "kernelspec": {
   "display_name": "base",
   "language": "python",
   "name": "python3"
  },
  "language_info": {
   "codemirror_mode": {
    "name": "ipython",
    "version": 3
   },
   "file_extension": ".py",
   "mimetype": "text/x-python",
   "name": "python",
   "nbconvert_exporter": "python",
   "pygments_lexer": "ipython3",
   "version": "3.9.13"
  },
  "orig_nbformat": 4
 },
 "nbformat": 4,
 "nbformat_minor": 2
}
