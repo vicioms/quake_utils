{
 "cells": [
  {
   "cell_type": "code",
   "execution_count": 75,
   "metadata": {},
   "outputs": [],
   "source": [
    "import numpy as np\n",
    "import matplotlib.pyplot as plt\n",
    "from sklearn.linear_model import LogisticRegression\n",
    "import pandas as pd\n",
    "from numba import njit, jit\n",
    "from numba.typed import Dict, List"
   ]
  },
  {
   "cell_type": "code",
   "execution_count": null,
   "metadata": {},
   "outputs": [],
   "source": [
    "dataset = np.load(\"japan.npz\")\n",
    "x_train = dataset[\"x_train\"]\n",
    "x_test = dataset[\"x_test\"]\n",
    "y_train = dataset[\"y_train\"]\n",
    "y_test = dataset[\"y_test\"]"
   ]
  },
  {
   "cell_type": "code",
   "execution_count": null,
   "metadata": {},
   "outputs": [],
   "source": [
    "Nlat = y_train.shape[1]\n",
    "Nlon = y_train.shape[2]\n",
    "good_cells_train = np.argwhere(np.isfinite(x_train).all(axis=-1))"
   ]
  },
  {
   "cell_type": "code",
   "execution_count": 67,
   "metadata": {},
   "outputs": [],
   "source": [
    "df_train = pd.DataFrame()\n",
    "df_train['sample'] = good_cells_train[:,0] \n",
    "df_train['lat'] = good_cells_train[:,1] \n",
    "df_train['lon'] = good_cells_train[:,2] \n",
    "df_train['label'] = y_train[good_cells_train[:,0] , good_cells_train[:,1] , good_cells_train[:,2] ]\n",
    "df_train['u_n'] = x_train[good_cells_train[:,0] , good_cells_train[:,1] , good_cells_train[:,2], 0]\n",
    "df_train['u_e'] = x_train[good_cells_train[:,0] , good_cells_train[:,1] , good_cells_train[:,2], 1]\n",
    "df_train['u_v'] = x_train[good_cells_train[:,0] , good_cells_train[:,1] , good_cells_train[:,2], 2]"
   ]
  },
  {
   "cell_type": "code",
   "execution_count": 79,
   "metadata": {},
   "outputs": [],
   "source": [
    "coefs = np.ones((Nlat, Nlon, 3))*np.nan\n",
    "intercept = np.ones((Nlat, Nlon))*np.nan\n",
    "for cell,group in df_train.groupby([\"lat\",\"lon\"]):\n",
    "    x_c = group[['u_n', 'u_e', 'u_v']].values\n",
    "    y_c = np.heaviside(group['label'].values, 0)\n",
    "    if(y_c.sum()>0):\n",
    "        lr = LogisticRegression()\n",
    "        lr.fit(x_c, y_c)\n",
    "        coefs[cell[0], cell[1], :] = lr.coef_\n",
    "        intercept[cell[0], cell[1]] = lr.intercept_"
   ]
  },
  {
   "cell_type": "code",
   "execution_count": 84,
   "metadata": {},
   "outputs": [
    {
     "data": {
      "text/plain": [
       "<matplotlib.contour.QuadContourSet at 0x7fd429cf34c0>"
      ]
     },
     "execution_count": 84,
     "metadata": {},
     "output_type": "execute_result"
    },
    {
     "data": {
      "image/png": "[encoded data removed]",
      "text/plain": [
       "<Figure size 640x480 with 1 Axes>"
      ]
     },
     "metadata": {},
     "output_type": "display_data"
    }
   ],
   "source": [
    "plt.contourf(coefs[:,:,2])"
   ]
  },
  {
   "cell_type": "code",
   "execution_count": null,
   "metadata": {},
   "outputs": [],
   "source": []
  }
 ],
 "metadata": {
  "kernelspec": {
   "display_name": "base",
   "language": "python",
   "name": "python3"
  },
  "language_info": {
   "codemirror_mode": {
    "name": "ipython",
    "version": 3
   },
   "file_extension": ".py",
   "mimetype": "text/x-python",
   "name": "python",
   "nbconvert_exporter": "python",
   "pygments_lexer": "ipython3",
   "version": "3.9.13"
  },
  "orig_nbformat": 4
 },
 "nbformat": 4,
 "nbformat_minor": 2
}
