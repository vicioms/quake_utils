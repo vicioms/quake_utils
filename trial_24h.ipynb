{
 "cells": [
  {
   "cell_type": "code",
   "execution_count": 73,
   "metadata": {},
   "outputs": [],
   "source": [
    "import numpy as np\n",
    "import matplotlib.pyplot as plt\n",
    "from sklearn.linear_model import LogisticRegression\n",
    "import pandas as pd\n",
    "from numba import njit, jit\n",
    "from numba.typed import Dict, List\n",
    "from sklearn.metrics._classification import accuracy_score, balanced_accuracy_score\n",
    "from sklearn.metrics import auc, roc_curve, roc_auc_score"
   ]
  },
  {
   "cell_type": "code",
   "execution_count": 74,
   "metadata": {},
   "outputs": [],
   "source": [
    "dataset = np.load(\"japan.npz\")\n",
    "x_train = dataset[\"x_train\"]\n",
    "x_test = dataset[\"x_test\"]\n",
    "y_train = dataset[\"y_train\"]\n",
    "y_test = dataset[\"y_test\"]"
   ]
  },
  {
   "cell_type": "code",
   "execution_count": 75,
   "metadata": {},
   "outputs": [],
   "source": [
    "x_train[:,:,:,:2] *= 6371*2*np.pi/180\n",
    "x_test[:,:,:,:2] *= 6371*2*np.pi/180"
   ]
  },
  {
   "cell_type": "code",
   "execution_count": 76,
   "metadata": {},
   "outputs": [],
   "source": [
    "Nlat = y_train.shape[1]\n",
    "Nlon = y_train.shape[2]\n",
    "good_cells_train = np.argwhere(np.isfinite(x_train).all(axis=-1))\n",
    "good_cells_test= np.argwhere(np.isfinite(x_test).all(axis=-1))"
   ]
  },
  {
   "cell_type": "code",
   "execution_count": 77,
   "metadata": {},
   "outputs": [],
   "source": [
    "df_train = pd.DataFrame()\n",
    "df_train['sample'] = good_cells_train[:,0] \n",
    "df_train['lat'] = good_cells_train[:,1] \n",
    "df_train['lon'] = good_cells_train[:,2] \n",
    "df_train['label'] = y_train[good_cells_train[:,0] , good_cells_train[:,1] , good_cells_train[:,2] ]\n",
    "df_train['u_n'] = x_train[good_cells_train[:,0] , good_cells_train[:,1] , good_cells_train[:,2], 0]\n",
    "df_train['u_e'] = x_train[good_cells_train[:,0] , good_cells_train[:,1] , good_cells_train[:,2], 1]\n",
    "df_train['u_v'] = x_train[good_cells_train[:,0] , good_cells_train[:,1] , good_cells_train[:,2], 2]"
   ]
  },
  {
   "cell_type": "code",
   "execution_count": 78,
   "metadata": {},
   "outputs": [],
   "source": [
    "df_test = pd.DataFrame()\n",
    "df_test['sample'] = good_cells_test[:,0] \n",
    "df_test['lat'] = good_cells_test[:,1] \n",
    "df_test['lon'] = good_cells_test[:,2] \n",
    "df_test['label'] = y_train[good_cells_test[:,0] , good_cells_test[:,1] , good_cells_test[:,2] ]\n",
    "df_test['u_n'] = x_test[good_cells_test[:,0] , good_cells_test[:,1] , good_cells_test[:,2], 0]\n",
    "df_test['u_e'] = x_test[good_cells_test[:,0] , good_cells_test[:,1] , good_cells_test[:,2], 1]\n",
    "df_test['u_v'] = x_test[good_cells_test[:,0] , good_cells_test[:,1] , good_cells_test[:,2], 2]"
   ]
  },
  {
   "cell_type": "code",
   "execution_count": 96,
   "metadata": {},
   "outputs": [
    {
     "data": {
      "text/plain": [
       "LogisticRegression(C=0.01, class_weight='balanced', random_state=0)"
      ]
     },
     "execution_count": 96,
     "metadata": {},
     "output_type": "execute_result"
    }
   ],
   "source": [
    "lr_global = LogisticRegression(C=0.01, random_state=0,class_weight='balanced')\n",
    "lr_global.fit(df_train[['u_n', 'u_e', 'u_v']].values, np.heaviside(df_train['label'].values, 0))"
   ]
  },
  {
   "cell_type": "code",
   "execution_count": 97,
   "metadata": {},
   "outputs": [],
   "source": [
    "fpr, tpr, thresholds = roc_curve(np.heaviside(df_test['label'].values, 0),lr_global.predict_proba(df_test[['u_n', 'u_e', 'u_v']].values)[:,1] )"
   ]
  },
  {
   "cell_type": "code",
   "execution_count": 98,
   "metadata": {},
   "outputs": [
    {
     "data": {
      "text/plain": [
       "0.47749328482415443"
      ]
     },
     "execution_count": 98,
     "metadata": {},
     "output_type": "execute_result"
    }
   ],
   "source": [
    "auc(fpr,tpr)"
   ]
  },
  {
   "cell_type": "code",
   "execution_count": 86,
   "metadata": {},
   "outputs": [],
   "source": [
    "coefs = np.ones((Nlat, Nlon, 3))*np.nan\n",
    "intercept = np.ones((Nlat, Nlon))*np.nan\n",
    "lrs = {}\n",
    "for cell,group in df_train.groupby([\"lat\",\"lon\"]):\n",
    "    x_c = group[['u_n', 'u_e', 'u_v']].values\n",
    "    y_c = np.heaviside(group['label'].values, 0)\n",
    "    w1 = y_c.sum()\n",
    "    if(w1>5):\n",
    "        lr = LogisticRegression(C=1, random_state=0,class_weight='balanced')\n",
    "        lr.fit(x_c, y_c)\n",
    "        coefs[cell[0], cell[1], :] = lr.coef_\n",
    "        intercept[cell[0], cell[1]] = lr.intercept_\n",
    "        lrs[(cell[0], cell[1])] = lr"
   ]
  },
  {
   "cell_type": "code",
   "execution_count": 83,
   "metadata": {},
   "outputs": [],
   "source": [
    "scores = np.ones((Nlat, Nlon))*np.nan\n",
    "for cell,group in df_test.groupby([\"lat\",\"lon\"]):\n",
    "    x_c = group[['u_n', 'u_e', 'u_v']].values\n",
    "    y_c = np.heaviside(group['label'].values, 0)\n",
    "    if (cell[0], cell[1]) in lrs and y_c.sum()>0:\n",
    "        lr= lrs[ (cell[0], cell[1])]\n",
    "        y_c_pred = lr.predict(x_c)\n",
    "        scores[cell[0], cell[1]] = balanced_accuracy_score(y_c, y_c_pred)"
   ]
  },
  {
   "cell_type": "code",
   "execution_count": 84,
   "metadata": {},
   "outputs": [
    {
     "data": {
      "text/plain": [
       "<matplotlib.quiver.Quiver at 0x7fcc73cd5be0>"
      ]
     },
     "execution_count": 84,
     "metadata": {},
     "output_type": "execute_result"
    },
    {
     "data": {
      "image/png": "[encoded data removed]",
      "text/plain": [
       "<Figure size 640x480 with 1 Axes>"
      ]
     },
     "metadata": {},
     "output_type": "display_data"
    }
   ],
   "source": [
    "plt.quiver(coefs[:,:,1], coefs[:,:,0], intercept, cmap='seismic')"
   ]
  },
  {
   "cell_type": "code",
   "execution_count": 85,
   "metadata": {},
   "outputs": [
    {
     "data": {
      "text/plain": [
       "<matplotlib.colorbar.Colorbar at 0x7fccbee985e0>"
      ]
     },
     "execution_count": 85,
     "metadata": {},
     "output_type": "execute_result"
    },
    {
     "data": {
      "image/png": "[encoded data removed]",
      "text/plain": [
       "<Figure size 640x480 with 2 Axes>"
      ]
     },
     "metadata": {},
     "output_type": "display_data"
    }
   ],
   "source": [
    "plt.contourf(scores, levels=20, cmap='seismic')\n",
    "plt.colorbar()"
   ]
  },
  {
   "cell_type": "code",
   "execution_count": null,
   "metadata": {},
   "outputs": [],
   "source": []
  }
 ],
 "metadata": {
  "kernelspec": {
   "display_name": "base",
   "language": "python",
   "name": "python3"
  },
  "language_info": {
   "codemirror_mode": {
    "name": "ipython",
    "version": 3
   },
   "file_extension": ".py",
   "mimetype": "text/x-python",
   "name": "python",
   "nbconvert_exporter": "python",
   "pygments_lexer": "ipython3",
   "version": "3.9.13"
  },
  "orig_nbformat": 4
 },
 "nbformat": 4,
 "nbformat_minor": 2
}
