{
 "cells": [
  {
   "cell_type": "code",
   "execution_count": null,
   "metadata": {},
   "outputs": [],
   "source": [
    "import numpy as np\n",
    "import matplotlib.pyplot as plt\n",
    "from sklearn.linear_model import LogisticRegression\n",
    "import pandas as pd\n",
    "from numba import njit, jit\n",
    "from numba.typed import Dict, List\n",
    "from sklearn.metrics._classification import accuracy_score, balanced_accuracy_score\n",
    "from sklearn.metrics import auc, roc_curve, roc_auc_score"
   ]
  },
  {
   "cell_type": "code",
   "execution_count": null,
   "metadata": {},
   "outputs": [],
   "source": [
    "dataset = np.load(\"japan.npz\")\n",
    "x_train = dataset[\"x_train\"]\n",
    "x_test = dataset[\"x_test\"]\n",
    "y_train = dataset[\"y_train\"]\n",
    "y_test = dataset[\"y_test\"]"
   ]
  },
  {
   "cell_type": "code",
   "execution_count": null,
   "metadata": {},
   "outputs": [],
   "source": [
    "x_train[:,:,:,:2] *= 6371*2*np.pi/180\n",
    "x_test[:,:,:,:2] *= 6371*2*np.pi/180"
   ]
  },
  {
   "cell_type": "code",
   "execution_count": null,
   "metadata": {},
   "outputs": [],
   "source": [
    "Nlat = y_train.shape[1]\n",
    "Nlon = y_train.shape[2]\n",
    "good_cells_train = np.argwhere(np.isfinite(x_train).all(axis=-1))\n",
    "good_cells_test= np.argwhere(np.isfinite(x_test).all(axis=-1))"
   ]
  },
  {
   "cell_type": "code",
   "execution_count": null,
   "metadata": {},
   "outputs": [],
   "source": [
    "df_train = pd.DataFrame()\n",
    "df_train['sample'] = good_cells_train[:,0] \n",
    "df_train['lat'] = good_cells_train[:,1] \n",
    "df_train['lon'] = good_cells_train[:,2] \n",
    "df_train['label'] = y_train[good_cells_train[:,0] , good_cells_train[:,1] , good_cells_train[:,2] ]\n",
    "df_train['u_n'] = x_train[good_cells_train[:,0] , good_cells_train[:,1] , good_cells_train[:,2], 0]\n",
    "df_train['u_e'] = x_train[good_cells_train[:,0] , good_cells_train[:,1] , good_cells_train[:,2], 1]\n",
    "df_train['u_v'] = x_train[good_cells_train[:,0] , good_cells_train[:,1] , good_cells_train[:,2], 2]"
   ]
  },
  {
   "cell_type": "code",
   "execution_count": null,
   "metadata": {},
   "outputs": [],
   "source": [
    "df_test = pd.DataFrame()\n",
    "df_test['sample'] = good_cells_test[:,0] \n",
    "df_test['lat'] = good_cells_test[:,1] \n",
    "df_test['lon'] = good_cells_test[:,2] \n",
    "df_test['label'] = y_train[good_cells_test[:,0] , good_cells_test[:,1] , good_cells_test[:,2] ]\n",
    "df_test['u_n'] = x_test[good_cells_test[:,0] , good_cells_test[:,1] , good_cells_test[:,2], 0]\n",
    "df_test['u_e'] = x_test[good_cells_test[:,0] , good_cells_test[:,1] , good_cells_test[:,2], 1]\n",
    "df_test['u_v'] = x_test[good_cells_test[:,0] , good_cells_test[:,1] , good_cells_test[:,2], 2]"
   ]
  },
  {
   "cell_type": "code",
   "execution_count": null,
   "metadata": {},
   "outputs": [],
   "source": [
    "coefs = np.ones((Nlat, Nlon, 3))*np.nan\n",
    "intercept = np.ones((Nlat, Nlon))*np.nan\n",
    "lrs = {}\n",
    "for cell,group in df_train.groupby([\"lat\",\"lon\"]):\n",
    "    x_c = group[['u_n', 'u_e', 'u_v']].values\n",
    "    y_c = np.heaviside(group['label'].values, 0)\n",
    "    w1 = y_c.sum()\n",
    "    if(w1>0):\n",
    "        lr = LogisticRegression(C=1, random_state=0)\n",
    "        lr.fit(x_c, y_c)\n",
    "        coefs[cell[0], cell[1], :] = lr.coef_\n",
    "        intercept[cell[0], cell[1]] = lr.intercept_\n",
    "        lrs[(cell[0], cell[1])] = lr"
   ]
  },
  {
   "cell_type": "code",
   "execution_count": null,
   "metadata": {},
   "outputs": [],
   "source": [
    "scores = np.ones((Nlat, Nlon))*np.nan\n",
    "for cell,group in df_test.groupby([\"lat\",\"lon\"]):\n",
    "    x_c = group[['u_n', 'u_e', 'u_v']].values\n",
    "    y_c = np.heaviside(group['label'].values, 0)\n",
    "    if (cell[0], cell[1]) in lrs and y_c.sum()>0:\n",
    "        lr= lrs[ (cell[0], cell[1])]\n",
    "        y_c_pred = lr.predict(x_c)\n",
    "        scores[cell[0], cell[1]] = roc_auc_score(y_c, y_c_pred)"
   ]
  },
  {
   "cell_type": "code",
   "execution_count": null,
   "metadata": {},
   "outputs": [],
   "source": [
    "plt.quiver(coefs[:,:,1], coefs[:,:,0], intercept, cmap='seismic')"
   ]
  }
 ],
 "metadata": {
  "kernelspec": {
   "display_name": "base",
   "language": "python",
   "name": "python3"
  },
  "language_info": {
   "codemirror_mode": {
    "name": "ipython",
    "version": 3
   },
   "file_extension": ".py",
   "mimetype": "text/x-python",
   "name": "python",
   "nbconvert_exporter": "python",
   "pygments_lexer": "ipython3",
   "version": "3.9.13"
  },
  "orig_nbformat": 4
 },
 "nbformat": 4,
 "nbformat_minor": 2
}
